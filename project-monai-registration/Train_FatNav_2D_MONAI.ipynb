{
  "cells": [
    {
      "cell_type": "code",
      "execution_count": null,
      "metadata": {
        "colab": {
          "base_uri": "https://localhost:8080/"
        },
        "id": "pE2Ql6Imi973",
        "outputId": "50ff2017-9205-4b58-8b8f-02d4d72355f9"
      },
      "outputs": [
        {
          "output_type": "stream",
          "name": "stdout",
          "text": [
            "Traceback (most recent call last):\n",
            "  File \"<string>\", line 1, in <module>\n",
            "ModuleNotFoundError: No module named 'monai'\n",
            "\u001b[2K     \u001b[90m━━━━━━━━━━━━━━━━━━━━━━━━━━━━━━━━━━━━━━━━\u001b[0m \u001b[32m1.3/1.3 MB\u001b[0m \u001b[31m25.4 MB/s\u001b[0m eta \u001b[36m0:00:00\u001b[0m\n",
            "\u001b[?25h"
          ]
        }
      ],
      "source": [
        "!python -c \"import monai\" || pip install -q \"monai-weekly[nibabel, tqdm]\"\n",
        "!python -c \"import matplotlib\" || pip install -q matplotlib\n",
        "%matplotlib inline\n",
        "import torch\n",
        "from torch.nn import MSELoss\n",
        "from torchvision import transforms\n",
        "from PIL import Image\n",
        "from monai.networks.blocks import Warp\n",
        "from monai.networks.nets import GlobalNet\n",
        "from monai.losses import BendingEnergyLoss\n",
        "import numpy as np\n",
        "import matplotlib.pyplot as plt"
      ]
    },
    {
      "cell_type": "code",
      "execution_count": null,
      "metadata": {
        "colab": {
          "base_uri": "https://localhost:8080/"
        },
        "id": "r9jC7ifArAIr",
        "outputId": "46f0e644-e4fe-41dd-dd0d-4b3f078fbbb0"
      },
      "outputs": [
        {
          "output_type": "stream",
          "name": "stdout",
          "text": [
            "Mounted at /content/drive\n"
          ]
        }
      ],
      "source": [
        "from google.colab import drive\n",
        "drive.mount('/content/drive')"
      ]
    },
    {
      "cell_type": "code",
      "execution_count": null,
      "metadata": {
        "id": "1_2UPEHwy-8g"
      },
      "outputs": [],
      "source": [
        "import zipfile\n",
        "!unzip -qq /content/drive/MyDrive/MRI_data/2Dfat_3333.zip;"
      ]
    },
    {
      "cell_type": "code",
      "execution_count": null,
      "metadata": {
        "id": "VfXl6cq1qAmf"
      },
      "outputs": [],
      "source": [
        "device = torch.device(\"cuda:0\")\n",
        "convert_tensor = transforms.ToTensor()\n",
        "\n",
        "p = 31 #how many images from each dataset to use to train + 1 (max 101)\n",
        "q = 33 #number of datasts to use (max 33)\n",
        "fn =[ [], [], [], [], [], [], [], [], [], [], [], [], [], [], [], [], [], [], [], [], [], [], [], [], [], [], [], [], [], [], [], [], []]\n",
        "for i in range(0,q):\n",
        "  for v in range(0,p):\n",
        "    n = i+1\n",
        "    image = Image.open(f'/content/train_{n}/00{v}_rt.png')\n",
        "    image = convert_tensor(image)\n",
        "    image1 = image.unsqueeze(0)\n",
        "    image1 = image1.to(device)\n",
        "    fn[i].append(image1)"
      ]
    },
    {
      "cell_type": "code",
      "execution_count": null,
      "metadata": {
        "id": "ZYnEWlnqhYdZ"
      },
      "outputs": [],
      "source": [
        "#translations parameters - x and y are swapped for these coordinates vs mri ones, rotations are clockwise in degrees\n",
        "rotations = [ [], [], [], [], [], [], [], [], [], [], [], [], [], [], [], [], [], [], [], [], [], [], [], [], [], [], [], [], [], [], [], [], []]\n",
        "translations_x = [ [], [], [], [], [], [], [], [], [], [], [], [], [], [], [], [], [], [], [], [], [], [], [], [], [], [], [], [], [], [], [], [], []]\n",
        "translations_y = [ [], [], [], [], [], [], [], [], [], [], [], [], [], [], [], [], [], [], [], [], [], [], [], [], [], [], [], [], [], [], [], [], []]\n",
        "for i in range(0, q):\n",
        "  rotations[i].append(0)\n",
        "  #translations_x[i].append(0)\n",
        "  #translations_y[i].append(0)\n",
        "  for v in range(1, p):\n",
        "    n = i + 1\n",
        "    with open(f\"/content/train_{n}/00{v}_augments.txt\") as f:\n",
        "        lines = f.readlines()\n",
        "        line0 = lines[0]\n",
        "        r1 = float(line0.split(\"=\")[1])\n",
        "        #convert to radians\n",
        "        r1 = (r1*np.pi)/180\n",
        "        rotations[i].append(r1)\n",
        "        line1 = lines[1]\n",
        "        t1 = float(line1.split(\"=\")[1])\n",
        "        translations_y[i].append(-t1)\n",
        "        line2 = lines[2]\n",
        "        t2 = float(line2.split(\"=\")[1])\n",
        "        #-ve sign?\n",
        "        translations_x[i].append(t2)"
      ]
    },
    {
      "cell_type": "code",
      "execution_count": null,
      "metadata": {
        "id": "YWugIsiTGNfg"
      },
      "outputs": [],
      "source": [
        "ddfs = [ [], [], [], [], [], [], [], [], [], [], [], [], [], [], [], [], [], [], [], [], [], [], [], [], [], [], [], [], [], [], [], [], []]\n",
        "for i in range(0, q):\n",
        "  for (tx, ty, r) in zip(translations_x[i], translations_y[i], rotations[i]):\n",
        "    image_width = 128\n",
        "    image_height = 128\n",
        "\n",
        "    # Create mesh grid\n",
        "    x, y = np.meshgrid(range(image_height), range(image_width), indexing='ij')\n",
        "\n",
        "    # Initialize tensor\n",
        "    displacement_field = np.zeros((image_height, image_width, 2))\n",
        "\n",
        "    # Apply transformation parameters - affine transformation matrix: [[cos(r), sin(r), Tx], [-sin(r), cos(r), Ty]]\n",
        "    homogeneous_coordinates = np.stack([x.flatten(), y.flatten(), np.ones_like(x.flatten())])\n",
        "    transformation_matrix = np.array([[np.cos(r), np.sin(r), tx], [-np.sin(r), np.cos(r), ty]])\n",
        "    transformed_homogeneous_coordinates = transformation_matrix @ homogeneous_coordinates\n",
        "\n",
        "    # Compute displacement field\n",
        "    displacement_field[..., 0] = transformed_homogeneous_coordinates[0].reshape((image_height, image_width)) - x\n",
        "    displacement_field[..., 1] = transformed_homogeneous_coordinates[1].reshape((image_height, image_width)) - y\n",
        "\n",
        "    displacementfield0 = torch.tensor(displacement_field)\n",
        "    displacementfield = displacementfield0.unsqueeze(0)\n",
        "    displacementfield = displacementfield.permute(0, 3, 1, 2)\n",
        "    displacementfield = displacementfield.to(device)\n",
        "    ddfs[i].append(displacementfield)\n",
        "\n",
        "#print(ddfs[1])\n",
        "  "
      ]
    },
    {
      "cell_type": "code",
      "execution_count": null,
      "metadata": {
        "id": "85AePAe8hypU"
      },
      "outputs": [],
      "source": [
        "activation = {}\n",
        "\n",
        "\n",
        "def get_activation(name):\n",
        "    def hook(net, input, output):\n",
        "        activation[name] = output.detach()\n",
        "\n",
        "    return hook\n",
        "\n",
        "def custom_loss(result, displacementfield):\n",
        "    return torch.mean((result - displacementfield)**2)\n",
        "\n",
        "input_param = {\n",
        "    \"image_size\": (128, 128),\n",
        "    \"spatial_dims\": 2,\n",
        "    \"in_channels\": 2,\n",
        "    \"num_channel_initial\": 16,\n",
        "    \"depth\": 3,\n",
        "}\n",
        "net = GlobalNet(**input_param).to(device)\n",
        "net.output_block.fc.register_forward_hook(get_activation(\"fc\"))\n",
        "regularization = BendingEnergyLoss()\n",
        "optimizer = torch.optim.Adam(net.parameters(), 1e-5)"
      ]
    },
    {
      "cell_type": "markdown",
      "metadata": {
        "id": "YYXgbGIkYhzL"
      },
      "source": [
        "Train"
      ]
    },
    {
      "cell_type": "code",
      "execution_count": null,
      "metadata": {
        "colab": {
          "base_uri": "https://localhost:8080/"
        },
        "id": "D377Ioc7RRQz",
        "outputId": "35387d4f-90df-4686-de6d-de59cca65675"
      },
      "outputs": [
        {
          "output_type": "stream",
          "name": "stdout",
          "text": [
            "----------\n",
            "epoch 1/60\n",
            "epoch 1 average loss: 47.3184\n",
            "----------\n",
            "epoch 2/60\n",
            "epoch 2 average loss: 77.3182\n",
            "----------\n",
            "epoch 3/60\n",
            "epoch 3 average loss: 47.9579\n",
            "----------\n",
            "epoch 4/60\n",
            "epoch 4 average loss: 31.2437\n",
            "----------\n",
            "epoch 5/60\n",
            "epoch 5 average loss: 46.0888\n",
            "----------\n",
            "epoch 6/60\n",
            "epoch 6 average loss: 44.4469\n",
            "----------\n",
            "epoch 7/60\n",
            "epoch 7 average loss: 8.8131\n",
            "----------\n",
            "epoch 8/60\n",
            "epoch 8 average loss: 7.3602\n",
            "----------\n",
            "epoch 9/60\n",
            "epoch 9 average loss: 6.4979\n",
            "----------\n",
            "epoch 10/60\n",
            "epoch 10 average loss: 11.4971\n",
            "----------\n",
            "epoch 11/60\n",
            "epoch 11 average loss: 25.0571\n",
            "----------\n",
            "epoch 12/60\n",
            "epoch 12 average loss: 20.0909\n",
            "----------\n",
            "epoch 13/60\n",
            "epoch 13 average loss: 11.0679\n",
            "----------\n",
            "epoch 14/60\n",
            "epoch 14 average loss: 9.6902\n",
            "----------\n",
            "epoch 15/60\n",
            "epoch 15 average loss: 15.3298\n",
            "----------\n",
            "epoch 16/60\n",
            "epoch 16 average loss: 34.0333\n",
            "----------\n",
            "epoch 17/60\n",
            "epoch 17 average loss: 24.2561\n",
            "----------\n",
            "epoch 18/60\n",
            "epoch 18 average loss: 8.5321\n",
            "----------\n",
            "epoch 19/60\n",
            "epoch 19 average loss: 3.9549\n",
            "----------\n",
            "epoch 20/60\n",
            "epoch 20 average loss: 4.5990\n",
            "----------\n",
            "epoch 21/60\n",
            "epoch 21 average loss: 7.9427\n",
            "----------\n",
            "epoch 22/60\n",
            "epoch 22 average loss: 4.3852\n",
            "----------\n",
            "epoch 23/60\n",
            "epoch 23 average loss: 4.0810\n",
            "----------\n",
            "epoch 24/60\n",
            "epoch 24 average loss: 9.0657\n",
            "----------\n",
            "epoch 25/60\n",
            "epoch 25 average loss: 12.2611\n",
            "----------\n",
            "epoch 26/60\n",
            "epoch 26 average loss: 11.1727\n",
            "----------\n",
            "epoch 27/60\n",
            "epoch 27 average loss: 5.5003\n",
            "----------\n",
            "epoch 28/60\n",
            "epoch 28 average loss: 4.0452\n",
            "----------\n",
            "epoch 29/60\n",
            "epoch 29 average loss: 4.5312\n",
            "----------\n",
            "epoch 30/60\n",
            "epoch 30 average loss: 3.8112\n",
            "----------\n",
            "epoch 31/60\n",
            "epoch 31 average loss: 4.7999\n",
            "----------\n",
            "epoch 32/60\n",
            "epoch 32 average loss: 4.6996\n",
            "----------\n",
            "epoch 33/60\n",
            "epoch 33 average loss: 6.2105\n",
            "----------\n",
            "epoch 34/60\n",
            "epoch 34 average loss: 5.8040\n",
            "----------\n",
            "epoch 35/60\n",
            "epoch 35 average loss: 5.7904\n",
            "----------\n",
            "epoch 36/60\n",
            "epoch 36 average loss: 5.7604\n",
            "----------\n",
            "epoch 37/60\n",
            "epoch 37 average loss: 3.1751\n",
            "----------\n",
            "epoch 38/60\n",
            "epoch 38 average loss: 1.7672\n",
            "----------\n",
            "epoch 39/60\n",
            "epoch 39 average loss: 2.3515\n",
            "----------\n",
            "epoch 40/60\n",
            "epoch 40 average loss: 1.9723\n",
            "----------\n",
            "epoch 41/60\n",
            "epoch 41 average loss: 2.2192\n",
            "----------\n",
            "epoch 42/60\n",
            "epoch 42 average loss: 3.2710\n",
            "----------\n",
            "epoch 43/60\n",
            "epoch 43 average loss: 2.9148\n",
            "----------\n",
            "epoch 44/60\n",
            "epoch 44 average loss: 3.1829\n",
            "----------\n",
            "epoch 45/60\n",
            "epoch 45 average loss: 3.5663\n",
            "----------\n",
            "epoch 46/60\n",
            "epoch 46 average loss: 3.5744\n",
            "----------\n",
            "epoch 47/60\n",
            "epoch 47 average loss: 2.7706\n",
            "----------\n",
            "epoch 48/60\n",
            "epoch 48 average loss: 1.5416\n",
            "----------\n",
            "epoch 49/60\n",
            "epoch 49 average loss: 0.8773\n",
            "----------\n",
            "epoch 50/60\n",
            "epoch 50 average loss: 0.7080\n",
            "----------\n",
            "epoch 51/60\n",
            "epoch 51 average loss: 1.2546\n",
            "----------\n",
            "epoch 52/60\n",
            "epoch 52 average loss: 2.0329\n",
            "----------\n",
            "epoch 53/60\n",
            "epoch 53 average loss: 2.5197\n",
            "----------\n",
            "epoch 54/60\n",
            "epoch 54 average loss: 2.3530\n",
            "----------\n",
            "epoch 55/60\n",
            "epoch 55 average loss: 1.0874\n",
            "----------\n",
            "epoch 56/60\n",
            "epoch 56 average loss: 0.5643\n",
            "----------\n",
            "epoch 57/60\n",
            "epoch 57 average loss: 0.5247\n",
            "----------\n",
            "epoch 58/60\n",
            "epoch 58 average loss: 1.2759\n",
            "----------\n",
            "epoch 59/60\n",
            "epoch 59 average loss: 1.1986\n",
            "----------\n",
            "epoch 60/60\n",
            "epoch 60 average loss: 1.3246\n"
          ]
        }
      ],
      "source": [
        "max_epochs = 60\n",
        "epoch_loss_values = []\n",
        "\n",
        "for epoch in range(max_epochs):\n",
        "    print(\"-\" * 10)\n",
        "    print(f\"epoch {epoch + 1}/{max_epochs}\")\n",
        "    net.train()\n",
        "    epoch_loss, step = 0, 0\n",
        "    for i in range(0, 33):\n",
        "      for (moving1, displacementfield) in zip(fn[i], ddfs[i]):\n",
        "          step += 1\n",
        "          optimizer.zero_grad()\n",
        "          result = net(torch.cat((fn[i][0], moving1), dim=1))\n",
        "          loss = custom_loss(result, displacementfield) + 100 * regularization(result) #was 10 previously\n",
        "          #loss = custom_loss1(result, displacementfield)\n",
        "          #loss = customloss2(result, transmat)\n",
        "\n",
        "          loss.backward()\n",
        "          optimizer.step()\n",
        "          epoch_loss += loss.item()\n",
        "\n",
        "    epoch_loss /= step\n",
        "    epoch_loss_values.append(epoch_loss)\n",
        "    print(f\"epoch {epoch + 1} average loss: {epoch_loss:.4f}\")"
      ]
    },
    {
      "cell_type": "code",
      "execution_count": null,
      "metadata": {
        "colab": {
          "base_uri": "https://localhost:8080/",
          "height": 447
        },
        "id": "Epo4if50YMAn",
        "outputId": "7e698434-df6b-404b-8962-6e7a9154fe52"
      },
      "outputs": [
        {
          "output_type": "execute_result",
          "data": {
            "text/plain": [
              "[<matplotlib.lines.Line2D at 0x7eff229b63b0>]"
            ]
          },
          "metadata": {},
          "execution_count": 9
        },
        {
          "output_type": "display_data",
          "data": {
            "text/plain": [
              "<Figure size 640x480 with 1 Axes>"
            ],
            "image/png": "[encoded data removed]"
          },
          "metadata": {}
        }
      ],
      "source": [
        "%matplotlib inline\n",
        "plt.plot(epoch_loss_values)"
      ]
    },
    {
      "cell_type": "markdown",
      "metadata": {
        "id": "z_YtsFl56NnN"
      },
      "source": [
        "Now with validation data"
      ]
    },
    {
      "cell_type": "code",
      "source": [
        "fn1 =[ [], [], [], [], [], [], [], [], [], [], [], [], [], [], [], [], [], [], [], [], [], [], [], [], [], [], [], [], [], [], [], [], []]\n",
        "for i in range(0,33):\n",
        "  n = i+1\n",
        "  fixed3 = Image.open(f'/content/train_{n}/000_rt.png')\n",
        "  fixed3 = convert_tensor(fixed3)\n",
        "  fixed4 = fixed3.unsqueeze(0)\n",
        "  fixed4 = fixed4.to(device)\n",
        "  fn[i].append(fixed4)\n",
        "  for v in range(98, 101):\n",
        "    image = Image.open(f'/content/train_{n}/00{v}_rt.png')\n",
        "    image = convert_tensor(image)\n",
        "    image1 = image.unsqueeze(0)\n",
        "    image1 = image1.to(device)\n",
        "    fn1[i].append(image1)"
      ],
      "metadata": {
        "id": "6-2lF-Qdq6y0"
      },
      "execution_count": null,
      "outputs": []
    },
    {
      "cell_type": "code",
      "source": [
        "import timeit\n",
        "start = timeit.default_timer()\n",
        "activations = [[], [], [], [], [], [], [], [], [], [], [], [], [], [], [], [], [], [], [], [], [], [], [], [], [], [], [], [], [], [], [], [], []]\n",
        "for i in range(0,33):\n",
        "  fixed2 = fn1[i][0]\n",
        "  for m in range(1,4):\n",
        "    image1 = fn[i][m]\n",
        "    ddf = net(torch.cat((image1, fixed2), dim=1))\n",
        "    activations[i].append(activation['fc'])\n",
        "\n",
        "stop = timeit.default_timer()\n",
        "print('Time: ', stop - start)"
      ],
      "metadata": {
        "id": "CVXBLQF3q9f2",
        "colab": {
          "base_uri": "https://localhost:8080/"
        },
        "outputId": "934ce172-4588-46cd-a408-96a6aad8a5b8"
      },
      "execution_count": null,
      "outputs": [
        {
          "output_type": "stream",
          "name": "stdout",
          "text": [
            "Time:  0.25868763099992975\n"
          ]
        }
      ]
    },
    {
      "cell_type": "code",
      "source": [
        "predx = [[], [], [], [], [], [], [], [], [], [], [], [], [], [], [], [], [], [], [], [], [], [], [], [], [], [], [], [], [], [], [], [], []]\n",
        "predy = [[], [], [], [], [], [], [], [], [], [], [], [], [], [], [], [], [], [], [], [], [], [], [], [], [], [], [], [], [], [], [], [], []]\n",
        "predr = [[], [], [], [], [], [], [], [], [], [], [], [], [], [], [], [], [], [], [], [], [], [], [], [], [], [], [], [], [], [], [], [], []]\n",
        "\n",
        "for i in range(0,33):\n",
        "  for activation in activations[i]:\n",
        "    a = activation[0,2].item()\n",
        "    predx[i].append(a)\n",
        "\n",
        "    b = activation[0,5].item()\n",
        "    predy[i].append(b)\n",
        "\n",
        "    c = activation[0, 0].item()\n",
        "    d = activation[0, 1].item()\n",
        "    e = activation[0, 3].item()\n",
        "    f = activation[0, 4].item()\n",
        "\n",
        "    g = (np.arcsin(d) + np.arcsin(-e))/2\n",
        "    predr[i].append(g)"
      ],
      "metadata": {
        "id": "jO34xz-rrB0Y"
      },
      "execution_count": null,
      "outputs": []
    },
    {
      "cell_type": "code",
      "source": [
        "#translations parameters for test data\n",
        "#y:\n",
        "test_x = [[], [], [], [], [], [], [], [], [], [], [], [], [], [], [], [], [], [], [], [], [], [], [], [], [], [], [], [], [], [], [], [], []]\n",
        "test_y = [[], [], [], [], [], [], [], [], [], [], [], [], [], [], [], [], [], [], [], [], [], [], [], [], [], [], [], [], [], [], [], [], []]\n",
        "test_r = [[], [], [], [], [], [], [], [], [], [], [], [], [], [], [], [], [], [], [], [], [], [], [], [], [], [], [], [], [], [], [], [], []]\n",
        "for i in range(0, 33):\n",
        "  for v in range(98, 101):\n",
        "    n = i + 1\n",
        "    with open(f\"/content/train_{n}/00{v}_augments.txt\") as f:\n",
        "        lines = f.readlines()\n",
        "        line0 = lines[0]\n",
        "        r1 = float(line0.split(\"=\")[1])\n",
        "        #convert to radians\n",
        "        r1 = (r1*np.pi)/180\n",
        "        test_r[i].append(r1)\n",
        "        line1 = lines[2]\n",
        "        t1 = float(line1.split(\"=\")[1])\n",
        "        test_x[i].append(t1)\n",
        "        line2 = lines[1]\n",
        "        t2 = float(line2.split(\"=\")[1])\n",
        "        test_y[i].append(-t2)"
      ],
      "metadata": {
        "id": "q6ptoiszrEYN"
      },
      "execution_count": null,
      "outputs": []
    },
    {
      "cell_type": "code",
      "source": [
        "%matplotlib inline\n",
        "for i in range (0, 33):\n",
        "  plt.scatter(test_x[i], predx[i], color='red')\n",
        "# set the x and y axis labels\n",
        "plt.xlabel(\"Ground Truths\", fontsize = 15)\n",
        "plt.ylabel(\"Registration Parameters\", fontsize = 15)\n",
        "plt.xlim([-5, 5])\n",
        "plt.ylim([-5, 5])\n",
        "plt.legend(['y translations'],fontsize=15, loc='upper left')\n",
        "\n",
        "plt.plot([-5, 5], [-5, 5], linestyle='--', color='gray')"
      ],
      "metadata": {
        "colab": {
          "base_uri": "https://localhost:8080/",
          "height": 70
        },
        "id": "CzuesJu_rJmm",
        "outputId": "50828b9a-8e02-46e5-89a6-38b85a9c6883"
      },
      "execution_count": null,
      "outputs": [
        {
          "output_type": "execute_result",
          "data": {
            "text/plain": [
              "'%matplotlib inline\\nfor i in range (0, 33):\\n  plt.scatter(test_x[i], predx[i], color=\\'red\\')\\n# set the x and y axis labels\\nplt.xlabel(\"Ground Truths\", fontsize = 15)\\nplt.ylabel(\"Registration Parameters\", fontsize = 15)\\nplt.xlim([-5, 5])\\nplt.ylim([-5, 5])\\nplt.legend([\\'y translations\\'],fontsize=15, loc=\\'upper left\\')\\n\\nplt.plot([-5, 5], [-5, 5], linestyle=\\'--\\', color=\\'gray\\')'"
            ],
            "application/vnd.google.colaboratory.intrinsic+json": {
              "type": "string"
            }
          },
          "metadata": {},
          "execution_count": 14
        }
      ]
    },
    {
      "cell_type": "code",
      "source": [
        "%matplotlib inline\n",
        "for i in range (0, 33):\n",
        "  plt.scatter(test_y[i], predy[i], color='red')\n",
        "# set the x and y axis labels\n",
        "plt.xlabel(\"Ground Truths\", fontsize = 15)\n",
        "plt.ylabel(\"Registration Parameters\", fontsize = 15)\n",
        "plt.xlim([-5, 5])\n",
        "plt.ylim([-5, 5])\n",
        "\n",
        "plt.legend(['x translations'],fontsize=15, loc='upper left')\n",
        "\n",
        "plt.plot([-5, 5], [-5, 5], linestyle='--', color='gray')"
      ],
      "metadata": {
        "colab": {
          "base_uri": "https://localhost:8080/",
          "height": 70
        },
        "id": "HbjWvHmNrMhx",
        "outputId": "2d9de0fa-f925-4347-b468-45a344798a4f"
      },
      "execution_count": null,
      "outputs": [
        {
          "output_type": "execute_result",
          "data": {
            "text/plain": [
              "'%matplotlib inline\\nfor i in range (0, 33):\\n  plt.scatter(test_y[i], predy[i], color=\\'red\\')\\n# set the x and y axis labels\\nplt.xlabel(\"Ground Truths\", fontsize = 15)\\nplt.ylabel(\"Registration Parameters\", fontsize = 15)\\nplt.xlim([-5, 5])\\nplt.ylim([-5, 5])\\n\\nplt.legend([\\'x translations\\'],fontsize=15, loc=\\'upper left\\')\\n\\nplt.plot([-5, 5], [-5, 5], linestyle=\\'--\\', color=\\'gray\\')'"
            ],
            "application/vnd.google.colaboratory.intrinsic+json": {
              "type": "string"
            }
          },
          "metadata": {},
          "execution_count": 15
        }
      ]
    },
    {
      "cell_type": "code",
      "source": [
        "%matplotlib inline\n",
        "for i in range (0, 33):\n",
        "  plt.scatter(test_r[i], predr[i], color='red')\n",
        "# set the x and y axis labels\n",
        "plt.xlabel(\"Ground Truths\", fontsize = 15)\n",
        "plt.ylabel(\"Registration Parameters\", fontsize = 15)\n",
        "plt.xlim([-0.1, 0.1])\n",
        "plt.ylim([-0.1, 0.1])\n",
        "\n",
        "plt.legend(['Rotations'],fontsize=15, loc='upper left')\n",
        "\n",
        "plt.plot([-0.1, 0.1], [-0.1, 0.1], linestyle='--', color='gray')"
      ],
      "metadata": {
        "colab": {
          "base_uri": "https://localhost:8080/",
          "height": 478
        },
        "id": "AtGdyFqnrP3I",
        "outputId": "93c6d866-428b-443a-9f28-5b1c11a394c3"
      },
      "execution_count": null,
      "outputs": [
        {
          "output_type": "execute_result",
          "data": {
            "text/plain": [
              "[<matplotlib.lines.Line2D at 0x7eff22913880>]"
            ]
          },
          "metadata": {},
          "execution_count": 16
        },
        {
          "output_type": "display_data",
          "data": {
            "text/plain": [
              "<Figure size 640x480 with 1 Axes>"
            ],
            "image/png": "[encoded data removed]"
          },
          "metadata": {}
        }
      ]
    },
    {
      "cell_type": "code",
      "source": [
        "torch.save(net.state_dict(), '/content/drive/MyDrive/MRI_data/2D_fatrots_60.pth')"
      ],
      "metadata": {
        "id": "8fNYy-AOaOXu"
      },
      "execution_count": null,
      "outputs": []
    },
    {
      "cell_type": "code",
      "source": [
        "from scipy import stats\n",
        "differences = []\n",
        "for i in range (0, 33):\n",
        "  for (r, rr, x, xr, y, yr) in zip(test_r[i], predr[i], test_x[i], predx[i], test_y[i], predy[i]):\n",
        "      # normalise each absolute difference to the ground truth parameter for that variable\n",
        "      differences.append([np.abs((r - rr) / r), np.abs((x - xr) / x), np.abs((y - yr) / y)])\n",
        "\n",
        "# separating the data out into lists for each difference in parameter - way to do this earlier on in the code?\n",
        "n_map = ['rotation abs difference norm', 'y translation abs difference norm', 'x translation abs difference norm']\n",
        "for n in range(3):\n",
        "    data_xr = []\n",
        "    for i, difference in enumerate(differences):\n",
        "        data_xr.append(difference[n])\n",
        "    # for labelling\n",
        "    n = n_map[n]\n",
        "    # analysis - rounding to 2 dp\n",
        "    mean = np.mean(data_xr)\n",
        "    mean = np.round(mean, 2)\n",
        "    median = np.median(data_xr)\n",
        "    median = np.round(median, 2)\n",
        "    mode = stats.mode(data_xr)\n",
        "    mode = mode.mode[0]\n",
        "    mode = round(mode, 2)\n",
        "    stddev = np.std(data_xr)\n",
        "    stddev = np.round(stddev, 2)\n",
        "    variance = np.var(data_xr)\n",
        "    variance = np.round(variance, 2)\n",
        "\n",
        "    print(f\"{n} Mean: {mean}\\n\")\n",
        "    print(f\"{n} Median : {median}\\n\")\n",
        "    print(f\"{n} Mode: {mode}\\n\")\n",
        "    print(f\"{n} SD: {stddev}\\n\")\n",
        "    print(f\"{n} Var: {variance}\\n\")"
      ],
      "metadata": {
        "colab": {
          "base_uri": "https://localhost:8080/",
          "height": 140
        },
        "id": "xCMWl3O7f0AH",
        "outputId": "3282863e-ef52-431c-ccf4-940e170b0f72"
      },
      "execution_count": null,
      "outputs": [
        {
          "output_type": "execute_result",
          "data": {
            "text/plain": [
              "'from scipy import stats\\ndifferences = []\\nfor i in range (0, 33):\\n  for (r, rr, x, xr, y, yr) in zip(test_r[i], predr[i], test_x[i], predx[i], test_y[i], predy[i]):\\n      # normalise each absolute difference to the ground truth parameter for that variable\\n      differences.append([np.abs((r - rr) / r), np.abs((x - xr) / x), np.abs((y - yr) / y)])\\n\\n# separating the data out into lists for each difference in parameter - way to do this earlier on in the code?\\nn_map = [\\'rotation abs difference norm\\', \\'y translation abs difference norm\\', \\'x translation abs difference norm\\']\\nfor n in range(3):\\n    data_xr = []\\n    for i, difference in enumerate(differences):\\n        data_xr.append(difference[n])\\n    # for labelling\\n    n = n_map[n]\\n    # analysis - rounding to 2 dp\\n    mean = np.mean(data_xr)\\n    mean = np.round(mean, 2)\\n    median = np.median(data_xr)\\n    median = np.round(median, 2)\\n    mode = stats.mode(data_xr)\\n    mode = mode.mode[0]\\n    mode = round(mode, 2)\\n    stddev = np.std(data_xr)\\n    stddev = np.round(stddev, 2)\\n    variance = np.var(data_xr)\\n    variance = np.round(variance, 2)\\n\\n    print(f\"{n} Mean: {mean}\\n\")\\n    print(f\"{n} Median : {median}\\n\")\\n    print(f\"{n} Mode: {mode}\\n\")\\n    print(f\"{n} SD: {stddev}\\n\")\\n    print(f\"{n} Var: {variance}\\n\")'"
            ],
            "application/vnd.google.colaboratory.intrinsic+json": {
              "type": "string"
            }
          },
          "metadata": {},
          "execution_count": 19
        }
      ]
    }
  ],
  "metadata": {
    "accelerator": "GPU",
    "colab": {
      "machine_shape": "hm",
      "provenance": [],
      "gpuType": "V100"
    },
    "gpuClass": "standard",
    "kernelspec": {
      "display_name": "Python 3",
      "name": "python3"
    },
    "language_info": {
      "name": "python"
    }
  },
  "nbformat": 4,
  "nbformat_minor": 0
}