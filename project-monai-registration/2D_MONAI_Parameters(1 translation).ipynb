{
  "nbformat": 4,
  "nbformat_minor": 0,
  "metadata": {
    "colab": {
      "provenance": []
    },
    "kernelspec": {
      "name": "python3",
      "display_name": "Python 3"
    },
    "language_info": {
      "name": "python"
    },
    "accelerator": "GPU",
    "gpuClass": "standard"
  },
  "cells": [
    {
      "cell_type": "code",
      "source": [
        "!python -c \"import monai\" || pip install -q \"monai-weekly[nibabel, tqdm]\"\n",
        "!python -c \"import matplotlib\" || pip install -q matplotlib\n",
        "%matplotlib inline\n",
        "import torch\n",
        "from torch.nn import MSELoss\n",
        "from torchvision import transforms\n",
        "from PIL import Image\n",
        "from monai.networks.blocks import Warp\n",
        "from monai.networks.nets import GlobalNet\n",
        "import numpy as np"
      ],
      "metadata": {
        "id": "pE2Ql6Imi973",
        "colab": {
          "base_uri": "https://localhost:8080/"
        },
        "outputId": "64a91b4a-cf78-454d-be37-4ff9f85bafdf"
      },
      "execution_count": null,
      "outputs": [
        {
          "output_type": "stream",
          "name": "stdout",
          "text": [
            "Traceback (most recent call last):\n",
            "  File \"<string>\", line 1, in <module>\n",
            "ModuleNotFoundError: No module named 'monai'\n",
            "\u001b[2K     \u001b[90m━━━━━━━━━━━━━━━━━━━━━━━━━━━━━━━━━━━━━━━━\u001b[0m \u001b[32m1.3/1.3 MB\u001b[0m \u001b[31m22.2 MB/s\u001b[0m eta \u001b[36m0:00:00\u001b[0m\n",
            "\u001b[?25h"
          ]
        }
      ]
    },
    {
      "cell_type": "code",
      "source": [
        "from google.colab import drive\n",
        "drive.mount('/content/drive')"
      ],
      "metadata": {
        "colab": {
          "base_uri": "https://localhost:8080/"
        },
        "id": "0j1X7qkJm7pk",
        "outputId": "9105001c-a671-41a2-9300-2538d563cf5a"
      },
      "execution_count": null,
      "outputs": [
        {
          "output_type": "stream",
          "name": "stdout",
          "text": [
            "Mounted at /content/drive\n"
          ]
        }
      ]
    },
    {
      "cell_type": "code",
      "source": [
        "import matplotlib.pyplot as plt\n",
        "fixed = Image.open('/content/drive/MyDrive/MRI_data/2D 2 trans/fixed_image.png')\n",
        "fixed = fixed.crop((48, 64, 152, 224)) #cropping to a more suitable size\n",
        "\n",
        "#plt.figure(\"check\", (12, 6))\n",
        "plt.imshow(fixed, cmap=\"gray\")\n",
        "\n",
        "plt.show()"
      ],
      "metadata": {
        "colab": {
          "base_uri": "https://localhost:8080/",
          "height": 434
        },
        "id": "KoBWNAZeVrR4",
        "outputId": "acf01d77-dfbd-4d92-ce35-a8fcbf333c6d"
      },
      "execution_count": null,
      "outputs": [
        {
          "output_type": "display_data",
          "data": {
            "text/plain": [
              "<Figure size 640x480 with 1 Axes>"
            ],
            "image/png": "[encoded data removed]"
          },
          "metadata": {}
        }
      ]
    },
    {
      "cell_type": "code",
      "source": [
        "n = 1001 #number of augmented images + 1\n",
        "fixed = Image.open('/content/drive/MyDrive/MRI_data/2D 2 trans/fixed_image.png')\n",
        "fixed = fixed.crop((48, 64, 152, 224)) #cropping to a more suitable size\n",
        "convert_tensor = transforms.ToTensor()\n",
        "fixed = convert_tensor(fixed)\n",
        "fixed1 = fixed.unsqueeze(0)\n",
        "\n",
        "list1 = []\n",
        "for i in range (1,n):\n",
        "  moving = Image.open(f'/content/drive/MyDrive/MRI_data/2D 1 trans/00{i}_rt.png')\n",
        "  moving = moving.crop((48, 64, 152, 224))\n",
        "  moving = convert_tensor(moving)\n",
        "  moving1 = moving.unsqueeze(0)\n",
        "  list1.append(moving1)\n",
        "\n",
        "#inputt = torch.cat((fixed, moving), dim=1)"
      ],
      "metadata": {
        "id": "VfXl6cq1qAmf"
      },
      "execution_count": null,
      "outputs": []
    },
    {
      "cell_type": "code",
      "source": [
        "#translations parameters\n",
        "translations = []\n",
        "#for fixed image?\n",
        "#translations.append(0)\n",
        "for i in range(1, n):\n",
        "    with open(f\"/content/drive/MyDrive/MRI_data/2D 1 trans/00{i}_augments.txt\") as f:\n",
        "        lines = f.readlines()\n",
        "        line1 = lines[0]\n",
        "        t = float(line1.split(\"=\")[1])\n",
        "        #translation = torch.tensor([1, 0, t, 0, 1, 0])\n",
        "        translations.append(t)"
      ],
      "metadata": {
        "id": "ZYnEWlnqhYdZ"
      },
      "execution_count": null,
      "outputs": []
    },
    {
      "cell_type": "code",
      "source": [
        "ddfs = []\n",
        "for t in translations:\n",
        "  image_width = 104\n",
        "  image_height = 160\n",
        "  tx = t\n",
        "  ty = 0\n",
        "\n",
        "  # Create mesh grid\n",
        "  x, y = np.meshgrid(range(image_width), range(image_height))\n",
        "\n",
        "  # Initialize tensor\n",
        "  displacement_field = np.zeros((image_height, image_width, 2))\n",
        "\n",
        "  # Apply transformation parameters\n",
        "  homogeneous_coordinates = np.stack([x.flatten(), y.flatten(), np.ones_like(x.flatten())])\n",
        "  transformation_matrix = np.array([[1, 0, tx], [0, 1, ty]])\n",
        "  transformed_homogeneous_coordinates = transformation_matrix @ homogeneous_coordinates\n",
        "\n",
        "  # Compute displacement field\n",
        "  displacement_field[..., 0] = transformed_homogeneous_coordinates[0].reshape((image_height, image_width)) - x\n",
        "  displacement_field[..., 1] = transformed_homogeneous_coordinates[1].reshape((image_height, image_width)) - y\n",
        "\n",
        "  displacementfield0 = torch.tensor(displacement_field)\n",
        "  displacementfield = displacementfield0.unsqueeze(0)\n",
        "  displacementfield = displacementfield.permute(0, 3, 1, 2)\n",
        "  displacementfield.size()\n",
        "  ddfs.append(displacementfield)\n",
        "\n",
        "#print(ddfs[1])"
      ],
      "metadata": {
        "id": "YWugIsiTGNfg"
      },
      "execution_count": null,
      "outputs": []
    },
    {
      "cell_type": "code",
      "execution_count": null,
      "metadata": {
        "id": "85AePAe8hypU"
      },
      "outputs": [],
      "source": [
        "activation = {}\n",
        "\n",
        "\n",
        "def get_activation(name):\n",
        "    def hook(net, input, output):\n",
        "        activation[name] = output.detach()\n",
        "\n",
        "    return hook\n",
        "\n",
        "def custom_loss(result, displacementfield):\n",
        "    return torch.mean((result - displacementfield)**2)\n",
        "\n",
        "input_param = {\n",
        "    \"image_size\": (160, 104),\n",
        "    \"spatial_dims\": 2,\n",
        "    \"in_channels\": 2,\n",
        "    \"num_channel_initial\": 16,\n",
        "    \"depth\": 3,\n",
        "}\n",
        "net = GlobalNet(**input_param)\n",
        "net.output_block.fc.register_forward_hook(get_activation(\"fc\"))\n",
        "warp_layer = Warp()\n",
        "image_loss = MSELoss()\n",
        "optimizer = torch.optim.Adam(net.parameters(), 1e-5)\n",
        "#optimizer = torch.optim.SGD(net.parameters(), lr=0.01, momentum=0.9)\n",
        "criterion = custom_loss"
      ]
    },
    {
      "cell_type": "code",
      "source": [
        "max_epochs = 30\n",
        "epoch_loss_values = []\n",
        "\n",
        "for epoch in range(max_epochs):\n",
        "    print(\"-\" * 10)\n",
        "    print(f\"epoch {epoch + 1}/{max_epochs}\")\n",
        "    net.train()\n",
        "    epoch_loss, step = 0, 0\n",
        "    for (moving1, displacementfield) in zip(list1, ddfs):\n",
        "        step += 1\n",
        "        optimizer.zero_grad()\n",
        "        result = net(torch.cat((fixed1, moving1), dim=1))\n",
        "        pred_image = warp_layer(moving1, result)\n",
        "        #print(activation)\n",
        "        #loss = image_loss(pred_image, fixed1)\n",
        "        #loss = criterion(activation['fc'], translation)\n",
        "        loss = criterion(result, displacementfield)\n",
        "        loss.backward()\n",
        "        optimizer.step()\n",
        "        epoch_loss += loss.item()\n",
        "\n",
        "    epoch_loss /= step\n",
        "    epoch_loss_values.append(epoch_loss)\n",
        "    print(f\"epoch {epoch + 1} average loss: {epoch_loss:.4f}\")"
      ],
      "metadata": {
        "colab": {
          "base_uri": "https://localhost:8080/"
        },
        "id": "D377Ioc7RRQz",
        "outputId": "3096cf7b-0b3b-489a-c0e9-9e0dbf110854"
      },
      "execution_count": null,
      "outputs": [
        {
          "output_type": "stream",
          "name": "stdout",
          "text": [
            "----------\n",
            "epoch 1/30\n",
            "epoch 1 average loss: 32.3404\n",
            "----------\n",
            "epoch 2/30\n",
            "epoch 2 average loss: 3.4895\n",
            "----------\n",
            "epoch 3/30\n",
            "epoch 3 average loss: 6.8906\n",
            "----------\n",
            "epoch 4/30\n",
            "epoch 4 average loss: 7.0279\n",
            "----------\n",
            "epoch 5/30\n",
            "epoch 5 average loss: 6.7624\n",
            "----------\n",
            "epoch 6/30\n",
            "epoch 6 average loss: 1.9772\n",
            "----------\n",
            "epoch 7/30\n",
            "epoch 7 average loss: 6.3706\n",
            "----------\n",
            "epoch 8/30\n",
            "epoch 8 average loss: 2.3197\n",
            "----------\n",
            "epoch 9/30\n",
            "epoch 9 average loss: 3.4820\n",
            "----------\n",
            "epoch 10/30\n",
            "epoch 10 average loss: 1.6310\n",
            "----------\n",
            "epoch 11/30\n",
            "epoch 11 average loss: 2.3928\n",
            "----------\n",
            "epoch 12/30\n",
            "epoch 12 average loss: 2.8985\n",
            "----------\n",
            "epoch 13/30\n",
            "epoch 13 average loss: 1.4333\n",
            "----------\n",
            "epoch 14/30\n",
            "epoch 14 average loss: 2.6971\n",
            "----------\n",
            "epoch 15/30\n",
            "epoch 15 average loss: 1.5066\n",
            "----------\n",
            "epoch 16/30\n",
            "epoch 16 average loss: 2.4095\n",
            "----------\n",
            "epoch 17/30\n",
            "epoch 17 average loss: 1.5542\n",
            "----------\n",
            "epoch 18/30\n",
            "epoch 18 average loss: 1.5706\n",
            "----------\n",
            "epoch 19/30\n",
            "epoch 19 average loss: 1.6745\n",
            "----------\n",
            "epoch 20/30\n",
            "epoch 20 average loss: 1.6108\n",
            "----------\n",
            "epoch 21/30\n",
            "epoch 21 average loss: 1.4953\n",
            "----------\n",
            "epoch 22/30\n",
            "epoch 22 average loss: 1.2326\n",
            "----------\n",
            "epoch 23/30\n",
            "epoch 23 average loss: 1.4271\n",
            "----------\n",
            "epoch 24/30\n",
            "epoch 24 average loss: 1.2457\n",
            "----------\n",
            "epoch 25/30\n",
            "epoch 25 average loss: 1.3152\n",
            "----------\n",
            "epoch 26/30\n",
            "epoch 26 average loss: 1.2459\n",
            "----------\n",
            "epoch 27/30\n",
            "epoch 27 average loss: 1.2480\n",
            "----------\n",
            "epoch 28/30\n",
            "epoch 28 average loss: 1.2381\n",
            "----------\n",
            "epoch 29/30\n",
            "epoch 29 average loss: 1.2140\n",
            "----------\n",
            "epoch 30/30\n",
            "epoch 30 average loss: 1.0825\n"
          ]
        }
      ]
    },
    {
      "cell_type": "code",
      "source": [
        "%matplotlib inline\n",
        "plt.plot(epoch_loss_values)"
      ],
      "metadata": {
        "id": "Epo4if50YMAn",
        "colab": {
          "base_uri": "https://localhost:8080/"
        },
        "outputId": "49a5d8eb-6bad-496d-b517-ea872b436c55"
      },
      "execution_count": null,
      "outputs": [
        {
          "output_type": "execute_result",
          "data": {
            "text/plain": [
              "[<matplotlib.lines.Line2D at 0x7f2527f89030>]"
            ]
          },
          "metadata": {},
          "execution_count": 15
        },
        {
          "output_type": "display_data",
          "data": {
            "text/plain": [
              "<Figure size 640x480 with 1 Axes>"
            ],
            "image/png": "[encoded data removed]"
          },
          "metadata": {}
        }
      ]
    },
    {
      "cell_type": "markdown",
      "source": [
        "Now with validation data"
      ],
      "metadata": {
        "id": "z_YtsFl56NnN"
      }
    },
    {
      "cell_type": "code",
      "source": [
        "m = 101 #number of test data\n",
        "\n",
        "list2 = []\n",
        "for i in range (1,m):\n",
        "  moving = Image.open(f'/content/drive/MyDrive/MRI_data/2D 1 trans/test/00{i}_rt.png')\n",
        "  moving = moving.crop((48, 64, 152, 224))\n",
        "  moving = convert_tensor(moving)\n",
        "  moving2 = moving.unsqueeze(0)\n",
        "  list2.append(moving2)"
      ],
      "metadata": {
        "id": "dwJA4bEJ7p09"
      },
      "execution_count": null,
      "outputs": []
    },
    {
      "cell_type": "code",
      "source": [
        "activations = []\n",
        "for moving2 in list2:\n",
        "    ddf = net(torch.cat((moving2, fixed1), dim=1))\n",
        "    #pred_image = warp_layer(moving2, ddf)\n",
        "    print(activation)\n",
        "    #pred_image = pred_image.detach().cpu().numpy()[:, 0]\n",
        "    activations.append(activation['fc'])\n",
        "\n",
        "#activations[10]['fc'][0,2].item()"
      ],
      "metadata": {
        "id": "LynthCAq6QrW",
        "colab": {
          "base_uri": "https://localhost:8080/"
        },
        "outputId": "2236b525-f406-4a88-ef79-db509d94c0e8"
      },
      "execution_count": null,
      "outputs": [
        {
          "output_type": "stream",
          "name": "stdout",
          "text": [
            "{'fc': tensor([[ 0.9942, -0.0049,  0.3154,  0.0000,  1.0000,  0.0000]])}\n",
            "{'fc': tensor([[ 1.0124,  0.0079, -1.7407,  0.0000,  1.0000,  0.0000]])}\n",
            "{'fc': tensor([[ 0.9962, -0.0026, -0.1517,  0.0000,  1.0000,  0.0000]])}\n",
            "{'fc': tensor([[ 1.0016,  0.0019, -0.8215,  0.0000,  1.0000,  0.0000]])}\n",
            "{'fc': tensor([[ 1.0016,  0.0019, -0.8215,  0.0000,  1.0000,  0.0000]])}\n",
            "{'fc': tensor([[ 0.9919, -0.0070,  2.1822,  0.0000,  1.0000,  0.0000]])}\n",
            "{'fc': tensor([[ 0.9962, -0.0026, -0.1517,  0.0000,  1.0000,  0.0000]])}\n",
            "{'fc': tensor([[ 0.9948, -0.0042,  0.0549,  0.0000,  1.0000,  0.0000]])}\n",
            "{'fc': tensor([[ 1.0016,  0.0019, -0.8215,  0.0000,  1.0000,  0.0000]])}\n",
            "{'fc': tensor([[ 1.0124,  0.0079, -1.7407,  0.0000,  1.0000,  0.0000]])}\n",
            "{'fc': tensor([[ 0.9962, -0.0026, -0.1517,  0.0000,  1.0000,  0.0000]])}\n",
            "{'fc': tensor([[ 0.9962, -0.0026, -0.1517,  0.0000,  1.0000,  0.0000]])}\n",
            "{'fc': tensor([[ 0.9962, -0.0026, -0.1517,  0.0000,  1.0000,  0.0000]])}\n",
            "{'fc': tensor([[ 0.9948, -0.0042,  0.0549,  0.0000,  1.0000,  0.0000]])}\n",
            "{'fc': tensor([[ 0.9934, -0.0057,  0.8689,  0.0000,  1.0000,  0.0000]])}\n",
            "{'fc': tensor([[ 1.0016,  0.0019, -0.8215,  0.0000,  1.0000,  0.0000]])}\n",
            "{'fc': tensor([[ 1.0094,  0.0067, -1.4106,  0.0000,  1.0000,  0.0000]])}\n",
            "{'fc': tensor([[ 0.9962, -0.0026, -0.1517,  0.0000,  1.0000,  0.0000]])}\n",
            "{'fc': tensor([[ 0.9948, -0.0042,  0.0549,  0.0000,  1.0000,  0.0000]])}\n",
            "{'fc': tensor([[ 0.9962, -0.0026, -0.1517,  0.0000,  1.0000,  0.0000]])}\n",
            "{'fc': tensor([[ 1.0048,  0.0039, -0.9614,  0.0000,  1.0000,  0.0000]])}\n",
            "{'fc': tensor([[ 0.9934, -0.0057,  0.8689,  0.0000,  1.0000,  0.0000]])}\n",
            "{'fc': tensor([[ 1.0124,  0.0079, -1.7407,  0.0000,  1.0000,  0.0000]])}\n",
            "{'fc': tensor([[ 0.9948, -0.0042,  0.0549,  0.0000,  1.0000,  0.0000]])}\n",
            "{'fc': tensor([[ 9.9863e-01, -5.7393e-04, -3.5666e-01,  0.0000e+00,  1.0000e+00,\n",
            "          0.0000e+00]])}\n",
            "{'fc': tensor([[ 0.9962, -0.0026, -0.1517,  0.0000,  1.0000,  0.0000]])}\n",
            "{'fc': tensor([[ 0.9942, -0.0049,  0.3154,  0.0000,  1.0000,  0.0000]])}\n",
            "{'fc': tensor([[ 0.9962, -0.0026, -0.1517,  0.0000,  1.0000,  0.0000]])}\n",
            "{'fc': tensor([[ 0.9914, -0.0077,  1.4294,  0.0000,  1.0000,  0.0000]])}\n",
            "{'fc': tensor([[ 0.9962, -0.0026, -0.1517,  0.0000,  1.0000,  0.0000]])}\n",
            "{'fc': tensor([[ 0.9919, -0.0070,  2.1822,  0.0000,  1.0000,  0.0000]])}\n",
            "{'fc': tensor([[ 1.0124,  0.0079, -1.7407,  0.0000,  1.0000,  0.0000]])}\n",
            "{'fc': tensor([[ 1.0048,  0.0039, -0.9614,  0.0000,  1.0000,  0.0000]])}\n",
            "{'fc': tensor([[ 0.9962, -0.0026, -0.1517,  0.0000,  1.0000,  0.0000]])}\n",
            "{'fc': tensor([[ 0.9962, -0.0026, -0.1517,  0.0000,  1.0000,  0.0000]])}\n",
            "{'fc': tensor([[ 0.9962, -0.0026, -0.1517,  0.0000,  1.0000,  0.0000]])}\n",
            "{'fc': tensor([[ 0.9962, -0.0026, -0.1517,  0.0000,  1.0000,  0.0000]])}\n",
            "{'fc': tensor([[ 0.9934, -0.0057,  0.8689,  0.0000,  1.0000,  0.0000]])}\n",
            "{'fc': tensor([[ 0.9962, -0.0026, -0.1517,  0.0000,  1.0000,  0.0000]])}\n",
            "{'fc': tensor([[ 0.9919, -0.0070,  2.1822,  0.0000,  1.0000,  0.0000]])}\n",
            "{'fc': tensor([[ 1.0016,  0.0019, -0.8215,  0.0000,  1.0000,  0.0000]])}\n",
            "{'fc': tensor([[ 0.9948, -0.0042,  0.0549,  0.0000,  1.0000,  0.0000]])}\n",
            "{'fc': tensor([[ 0.9942, -0.0049,  0.3154,  0.0000,  1.0000,  0.0000]])}\n",
            "{'fc': tensor([[ 0.9962, -0.0026, -0.1517,  0.0000,  1.0000,  0.0000]])}\n",
            "{'fc': tensor([[ 0.9948, -0.0042,  0.0549,  0.0000,  1.0000,  0.0000]])}\n",
            "{'fc': tensor([[ 0.9914, -0.0077,  1.4294,  0.0000,  1.0000,  0.0000]])}\n",
            "{'fc': tensor([[ 1.0048,  0.0039, -0.9614,  0.0000,  1.0000,  0.0000]])}\n",
            "{'fc': tensor([[ 9.9863e-01, -5.7393e-04, -3.5666e-01,  0.0000e+00,  1.0000e+00,\n",
            "          0.0000e+00]])}\n",
            "{'fc': tensor([[ 1.0048,  0.0039, -0.9614,  0.0000,  1.0000,  0.0000]])}\n",
            "{'fc': tensor([[ 1.0016,  0.0019, -0.8215,  0.0000,  1.0000,  0.0000]])}\n",
            "{'fc': tensor([[ 0.9942, -0.0049,  0.3154,  0.0000,  1.0000,  0.0000]])}\n",
            "{'fc': tensor([[ 0.9962, -0.0026, -0.1517,  0.0000,  1.0000,  0.0000]])}\n",
            "{'fc': tensor([[ 0.9919, -0.0070,  2.1822,  0.0000,  1.0000,  0.0000]])}\n",
            "{'fc': tensor([[ 0.9948, -0.0042,  0.0549,  0.0000,  1.0000,  0.0000]])}\n",
            "{'fc': tensor([[ 0.9934, -0.0057,  0.8689,  0.0000,  1.0000,  0.0000]])}\n",
            "{'fc': tensor([[ 0.9962, -0.0026, -0.1517,  0.0000,  1.0000,  0.0000]])}\n",
            "{'fc': tensor([[ 1.0048,  0.0039, -0.9614,  0.0000,  1.0000,  0.0000]])}\n",
            "{'fc': tensor([[ 9.9863e-01, -5.7393e-04, -3.5666e-01,  0.0000e+00,  1.0000e+00,\n",
            "          0.0000e+00]])}\n",
            "{'fc': tensor([[ 9.9863e-01, -5.7393e-04, -3.5666e-01,  0.0000e+00,  1.0000e+00,\n",
            "          0.0000e+00]])}\n",
            "{'fc': tensor([[ 0.9914, -0.0077,  1.4294,  0.0000,  1.0000,  0.0000]])}\n",
            "{'fc': tensor([[ 1.0094,  0.0067, -1.4106,  0.0000,  1.0000,  0.0000]])}\n",
            "{'fc': tensor([[ 1.0016,  0.0019, -0.8215,  0.0000,  1.0000,  0.0000]])}\n",
            "{'fc': tensor([[ 0.9962, -0.0026, -0.1517,  0.0000,  1.0000,  0.0000]])}\n",
            "{'fc': tensor([[ 0.9962, -0.0026, -0.1517,  0.0000,  1.0000,  0.0000]])}\n",
            "{'fc': tensor([[ 0.9942, -0.0049,  0.3154,  0.0000,  1.0000,  0.0000]])}\n",
            "{'fc': tensor([[ 0.9942, -0.0049,  0.3154,  0.0000,  1.0000,  0.0000]])}\n",
            "{'fc': tensor([[ 9.9863e-01, -5.7393e-04, -3.5666e-01,  0.0000e+00,  1.0000e+00,\n",
            "          0.0000e+00]])}\n",
            "{'fc': tensor([[ 1.0016,  0.0019, -0.8215,  0.0000,  1.0000,  0.0000]])}\n",
            "{'fc': tensor([[ 9.9863e-01, -5.7393e-04, -3.5666e-01,  0.0000e+00,  1.0000e+00,\n",
            "          0.0000e+00]])}\n",
            "{'fc': tensor([[ 1.0094,  0.0067, -1.4106,  0.0000,  1.0000,  0.0000]])}\n",
            "{'fc': tensor([[ 0.9962, -0.0026, -0.1517,  0.0000,  1.0000,  0.0000]])}\n",
            "{'fc': tensor([[ 1.0016,  0.0019, -0.8215,  0.0000,  1.0000,  0.0000]])}\n",
            "{'fc': tensor([[ 0.9948, -0.0042,  0.0549,  0.0000,  1.0000,  0.0000]])}\n",
            "{'fc': tensor([[ 1.0016,  0.0019, -0.8215,  0.0000,  1.0000,  0.0000]])}\n",
            "{'fc': tensor([[ 1.0016,  0.0019, -0.8215,  0.0000,  1.0000,  0.0000]])}\n",
            "{'fc': tensor([[ 9.9863e-01, -5.7393e-04, -3.5666e-01,  0.0000e+00,  1.0000e+00,\n",
            "          0.0000e+00]])}\n",
            "{'fc': tensor([[ 0.9914, -0.0077,  1.4294,  0.0000,  1.0000,  0.0000]])}\n",
            "{'fc': tensor([[ 0.9948, -0.0042,  0.0549,  0.0000,  1.0000,  0.0000]])}\n",
            "{'fc': tensor([[ 0.9962, -0.0026, -0.1517,  0.0000,  1.0000,  0.0000]])}\n",
            "{'fc': tensor([[ 1.0124,  0.0079, -1.7407,  0.0000,  1.0000,  0.0000]])}\n",
            "{'fc': tensor([[ 0.9948, -0.0042,  0.0549,  0.0000,  1.0000,  0.0000]])}\n",
            "{'fc': tensor([[ 0.9948, -0.0042,  0.0549,  0.0000,  1.0000,  0.0000]])}\n",
            "{'fc': tensor([[ 0.9942, -0.0049,  0.3154,  0.0000,  1.0000,  0.0000]])}\n",
            "{'fc': tensor([[ 0.9962, -0.0026, -0.1517,  0.0000,  1.0000,  0.0000]])}\n",
            "{'fc': tensor([[ 9.9863e-01, -5.7393e-04, -3.5666e-01,  0.0000e+00,  1.0000e+00,\n",
            "          0.0000e+00]])}\n",
            "{'fc': tensor([[ 0.9942, -0.0049,  0.3154,  0.0000,  1.0000,  0.0000]])}\n",
            "{'fc': tensor([[ 0.9934, -0.0057,  0.8689,  0.0000,  1.0000,  0.0000]])}\n",
            "{'fc': tensor([[ 0.9948, -0.0042,  0.0549,  0.0000,  1.0000,  0.0000]])}\n",
            "{'fc': tensor([[ 0.9962, -0.0026, -0.1517,  0.0000,  1.0000,  0.0000]])}\n",
            "{'fc': tensor([[ 0.9962, -0.0026, -0.1517,  0.0000,  1.0000,  0.0000]])}\n",
            "{'fc': tensor([[ 0.9914, -0.0077,  1.4294,  0.0000,  1.0000,  0.0000]])}\n",
            "{'fc': tensor([[ 0.9962, -0.0026, -0.1517,  0.0000,  1.0000,  0.0000]])}\n",
            "{'fc': tensor([[ 0.9942, -0.0049,  0.3154,  0.0000,  1.0000,  0.0000]])}\n",
            "{'fc': tensor([[ 0.9962, -0.0026, -0.1517,  0.0000,  1.0000,  0.0000]])}\n",
            "{'fc': tensor([[ 0.9942, -0.0049,  0.3154,  0.0000,  1.0000,  0.0000]])}\n",
            "{'fc': tensor([[ 9.9863e-01, -5.7393e-04, -3.5666e-01,  0.0000e+00,  1.0000e+00,\n",
            "          0.0000e+00]])}\n",
            "{'fc': tensor([[ 0.9962, -0.0026, -0.1517,  0.0000,  1.0000,  0.0000]])}\n",
            "{'fc': tensor([[ 1.0124,  0.0079, -1.7407,  0.0000,  1.0000,  0.0000]])}\n",
            "{'fc': tensor([[ 9.9863e-01, -5.7393e-04, -3.5666e-01,  0.0000e+00,  1.0000e+00,\n",
            "          0.0000e+00]])}\n",
            "{'fc': tensor([[ 9.9863e-01, -5.7393e-04, -3.5666e-01,  0.0000e+00,  1.0000e+00,\n",
            "          0.0000e+00]])}\n"
          ]
        }
      ]
    },
    {
      "cell_type": "code",
      "source": [
        "pred = []\n",
        "\n",
        "for activation in activations:\n",
        "  a = activation[0,2].item()\n",
        "  #a = a*10\n",
        "  pred.append(a)\n",
        "\n",
        "print(pred)"
      ],
      "metadata": {
        "colab": {
          "base_uri": "https://localhost:8080/"
        },
        "id": "55AeEhdAOLN5",
        "outputId": "bdbe45ed-4254-4cd1-f75d-a300665ce72f"
      },
      "execution_count": null,
      "outputs": [
        {
          "output_type": "stream",
          "name": "stdout",
          "text": [
            "[0.3154096007347107, -1.7407379150390625, -0.1517244577407837, -0.8215147852897644, -0.8215147852897644, 2.182175397872925, -0.1517244577407837, 0.05489393696188927, -0.8215147852897644, -1.7407379150390625, -0.1517244577407837, -0.1517244577407837, -0.1517244577407837, 0.05489393696188927, 0.8689380288124084, -0.8215147852897644, -1.4106203317642212, -0.1517244577407837, 0.05489393696188927, -0.1517244577407837, -0.9614126086235046, 0.8689380288124084, -1.7407379150390625, 0.05489393696188927, -0.3566630780696869, -0.1517244577407837, 0.3154096007347107, -0.1517244577407837, 1.4293768405914307, -0.1517244577407837, 2.182175397872925, -1.7407379150390625, -0.9614126086235046, -0.1517244577407837, -0.1517244577407837, -0.1517244577407837, -0.1517244577407837, 0.8689380288124084, -0.1517244577407837, 2.182175397872925, -0.8215147852897644, 0.05489393696188927, 0.3154096007347107, -0.1517244577407837, 0.05489393696188927, 1.4293768405914307, -0.9614126086235046, -0.3566630780696869, -0.9614126086235046, -0.8215147852897644, 0.3154096007347107, -0.1517244577407837, 2.182175397872925, 0.05489393696188927, 0.8689380288124084, -0.1517244577407837, -0.9614126086235046, -0.3566630780696869, -0.3566630780696869, 1.4293768405914307, -1.4106203317642212, -0.8215147852897644, -0.1517244577407837, -0.1517244577407837, 0.3154096007347107, 0.3154096007347107, -0.3566630780696869, -0.8215147852897644, -0.3566630780696869, -1.4106203317642212, -0.1517244577407837, -0.8215147852897644, 0.05489393696188927, -0.8215147852897644, -0.8215147852897644, -0.3566630780696869, 1.4293768405914307, 0.05489393696188927, -0.1517244577407837, -1.7407379150390625, 0.05489393696188927, 0.05489393696188927, 0.3154096007347107, -0.1517244577407837, -0.3566630780696869, 0.3154096007347107, 0.8689380288124084, 0.05489393696188927, -0.1517244577407837, -0.1517244577407837, 1.4293768405914307, -0.1517244577407837, 0.3154096007347107, -0.1517244577407837, 0.3154096007347107, -0.3566630780696869, -0.1517244577407837, -1.7407379150390625, -0.3566630780696869, -0.3566630780696869]\n"
          ]
        }
      ]
    },
    {
      "cell_type": "code",
      "source": [
        "#translations parameters for test data\n",
        "translations1 = []\n",
        "#for fixed image?\n",
        "#translations.append(0)\n",
        "for i in range(1, m):\n",
        "    with open(f\"/content/drive/MyDrive/MRI_data/2D 1 trans/test/00{i}_augments.txt\") as f:\n",
        "        lines = f.readlines()\n",
        "        line1 = lines[0]\n",
        "        t1 = float(line1.split(\"=\")[1])\n",
        "        translations1.append(t1)"
      ],
      "metadata": {
        "id": "8bZkJKXLR3ck"
      },
      "execution_count": null,
      "outputs": []
    },
    {
      "cell_type": "code",
      "source": [
        "differences = []\n",
        "for (a, t1) in zip(pred, translations1):\n",
        "  d = t1 - a\n",
        "  differences.append(d)\n",
        "\n",
        "print(differences)"
      ],
      "metadata": {
        "colab": {
          "base_uri": "https://localhost:8080/"
        },
        "id": "C-ehNG1yRLaF",
        "outputId": "235c5e55-6f28-447b-df1b-a3e1e774d7a8"
      },
      "execution_count": null,
      "outputs": [
        {
          "output_type": "stream",
          "name": "stdout",
          "text": [
            "[2.4590903992652895, -3.8278620849609375, 0.5724244577407838, -1.7327852147102356, -1.7519852147102357, 3.439824602127075, 0.06710445774078369, 1.5898060630381108, -1.4036852147102357, -3.693862084960937, -0.39017554225921636, -0.23077554225921632, 1.0944244577407836, 1.5316060630381108, 3.0020619711875915, -1.8036852147102356, -2.6488796682357787, 0.2186744577407837, 1.8419060630381108, 0.8631244577407837, -3.0144873913764956, 2.3328619711875915, -3.443462084960937, 0.9993060630381108, -1.095936921930313, -0.3086755422592163, 2.446090399265289, -0.3015755422592163, 2.7877231594085696, -0.13537554225921633, 3.4576246021270753, -3.4829620849609375, -2.385087391376495, 0.9162244577407836, -0.2896755422592163, -0.2969755422592163, 0.3166244577407837, 2.6071619711875917, -0.17467554225921633, 2.9511246021270754, -1.5363852147102355, 1.0513060630381108, 2.0419903992652895, 0.4828244577407837, 1.4229060630381107, 3.512823159408569, -2.441487391376495, -0.7799369219303132, -2.6189873913764954, -2.104085214710236, 2.212290399265289, 0.5471244577407837, 3.0776246021270754, 1.7419060630381107, 2.1372619711875918, -0.19287554225921633, -2.7677873913764954, -1.601336921930313, -1.5093369219303132, 2.6101231594085696, -3.298079668235779, -1.9224852147102358, -0.2146755422592163, -0.7400755422592163, 2.0539903992652895, 1.8036903992652893, -0.6586369219303132, -1.7955852147102358, -0.7745369219303131, -3.070179668235779, -0.6204755422592163, -1.3306852147102357, 1.8906060630381107, -1.9945852147102356, -1.8391852147102354, -1.079636921930313, 2.8700231594085697, 1.3226060630381107, 0.2388744577407837, -3.459562084960938, 1.0541060630381107, 1.0144060630381107, 1.9548903992652895, 0.2412644577407837, -1.5901369219303132, 2.6633903992652894, 2.3817619711875917, 1.5631060630381108, -0.5188755422592163, 1.0574244577407836, 3.2530231594085697, -0.5034755422592163, 2.2553903992652895, 0.9004244577407837, 2.0295903992652895, -1.3727369219303132, -0.2763755422592163, -3.6384620849609375, -0.656136921930313, -1.389736921930313]\n"
          ]
        }
      ]
    },
    {
      "cell_type": "code",
      "source": [
        "%matplotlib inline\n",
        "plt.scatter(translations1, pred, label=\"1 translation 2D\", color='red')\n",
        "# set the x and y axis labels\n",
        "plt.xlabel(\"Ground Truths\", fontsize = 15)\n",
        "plt.ylabel(\"Registration Parameters\", fontsize = 15)\n",
        "plt.xlim([-6, 6])\n",
        "plt.ylim([-6, 6])\n",
        "plt.legend(fontsize=15, loc='upper left')\n",
        "\n",
        "plt.plot([-6, 6], [-6, 6], linestyle='--', color='gray')\n"
      ],
      "metadata": {
        "colab": {
          "base_uri": "https://localhost:8080/"
        },
        "id": "I2ZUrR4LYN44",
        "outputId": "0bc9547a-7cc6-4be4-cfdd-b860350d58ad"
      },
      "execution_count": null,
      "outputs": [
        {
          "output_type": "execute_result",
          "data": {
            "text/plain": [
              "[<matplotlib.lines.Line2D at 0x7f2527e38d00>]"
            ]
          },
          "metadata": {},
          "execution_count": 21
        },
        {
          "output_type": "display_data",
          "data": {
            "text/plain": [
              "<Figure size 640x480 with 1 Axes>"
            ],
            "image/png": "[encoded data removed]"
          },
          "metadata": {}
        }
      ]
    },
    {
      "cell_type": "code",
      "source": [
        "torch.save(net.state_dict(), '/content/drive/MyDrive/MRI_data/1trans.pth')"
      ],
      "metadata": {
        "id": "RexZxJG_N2fl"
      },
      "execution_count": null,
      "outputs": []
    }
  ]
}